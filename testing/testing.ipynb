{
 "cells": [
  {
   "cell_type": "code",
   "execution_count": null,
   "metadata": {},
   "outputs": [],
   "source": [
    "import dot_connect"
   ]
  },
  {
   "cell_type": "markdown",
   "metadata": {},
   "source": [
    "Connect to AWS."
   ]
  },
  {
   "cell_type": "code",
   "execution_count": null,
   "metadata": {},
   "outputs": [],
   "source": [
    "import boto3\n",
    "\n",
    "s3 = boto3.client(\"s3\")\n",
    "s3.list_buckets()"
   ]
  },
  {
   "cell_type": "markdown",
   "metadata": {},
   "source": [
    "Query Snowflake."
   ]
  },
  {
   "cell_type": "code",
   "execution_count": null,
   "metadata": {},
   "outputs": [],
   "source": [
    "con = dot_connect.snowflake.connect(database=\"\", schema=\"magic\")\n",
    "con.cursor().execute(\"SELECT 1;\").fetchall()"
   ]
  },
  {
   "cell_type": "markdown",
   "metadata": {},
   "source": [
    "Query Snowpark."
   ]
  },
  {
   "cell_type": "code",
   "execution_count": null,
   "metadata": {},
   "outputs": [],
   "source": [
    "con = dot_connect.snowpark.connect()\n",
    "con.sql(\"SELECT 1\").show()"
   ]
  },
  {
   "cell_type": "markdown",
   "metadata": {},
   "source": [
    "Query MySQL."
   ]
  },
  {
   "cell_type": "code",
   "execution_count": null,
   "metadata": {},
   "outputs": [],
   "source": [
    "con = dot_connect.mysql.connect()\n",
    "\n",
    "cursor = con.cursor()\n",
    "cursor.execute(\"SELECT 1\")\n",
    "cursor.fetchall()"
   ]
  },
  {
   "cell_type": "markdown",
   "metadata": {},
   "source": [
    "Query Postgres."
   ]
  },
  {
   "cell_type": "code",
   "execution_count": null,
   "metadata": {},
   "outputs": [],
   "source": [
    "con = dot_connect.postgres.connect()\n",
    "\n",
    "cursor = con.cursor()\n",
    "cursor.execute(\"SELECT 1\")\n",
    "cursor.fetchall()"
   ]
  },
  {
   "cell_type": "markdown",
   "metadata": {},
   "source": [
    "Testing import checks."
   ]
  },
  {
   "cell_type": "code",
   "execution_count": null,
   "metadata": {},
   "outputs": [],
   "source": [
    "import pkg_resources"
   ]
  },
  {
   "cell_type": "code",
   "execution_count": null,
   "metadata": {},
   "outputs": [],
   "source": [
    "installed_packages = []\n",
    "\n",
    "for k, v in pkg_resources.working_set.entry_keys.items():\n",
    "    if isinstance(v, list) and len(v) > 0:\n",
    "        print({k: v})\n",
    "        installed_packages.extend(iter(v))"
   ]
  },
  {
   "cell_type": "code",
   "execution_count": null,
   "metadata": {},
   "outputs": [],
   "source": [
    "installed_packages"
   ]
  },
  {
   "cell_type": "code",
   "execution_count": null,
   "metadata": {},
   "outputs": [],
   "source": [
    "import ibis"
   ]
  },
  {
   "cell_type": "code",
   "execution_count": null,
   "metadata": {},
   "outputs": [],
   "source": [
    "ibis.examples.aml"
   ]
  },
  {
   "cell_type": "code",
   "execution_count": null,
   "metadata": {},
   "outputs": [],
   "source": [
    "examples_registry = ibis.read_csv(\n",
    "    \"https://raw.githubusercontent.com/ibis-project/ibis/master/ibis/examples/registry.txt\",\n",
    "    delim=\" \",\n",
    "    header=False,\n",
    "    columns={\"example\": \"VARCHAR\", \"hash\": \"VARCHAR\"},\n",
    ")\n",
    "\n",
    "examples = examples_registry.select(\"example\")\n",
    "examples = examples.mutate(example=examples.example.split(\".\")[0])\n",
    "[\"\"] + examples.execute().example.to_list()"
   ]
  },
  {
   "cell_type": "code",
   "execution_count": null,
   "metadata": {},
   "outputs": [],
   "source": [
    "list(ibis.examples._METADATA.keys())"
   ]
  },
  {
   "cell_type": "code",
   "execution_count": null,
   "metadata": {},
   "outputs": [],
   "source": [
    "ibis.examples._METADATA.get(\"Aids2\")"
   ]
  },
  {
   "cell_type": "code",
   "execution_count": null,
   "metadata": {},
   "outputs": [],
   "source": [
    "ibis.examples._METADATA.get(\"Aids2_raw\", \"\")"
   ]
  },
  {
   "cell_type": "code",
   "execution_count": null,
   "metadata": {},
   "outputs": [],
   "source": [
    "example = ibis.examples.Example(\"Australian AIDS Survival Data\", \"Aids2.csv.gz\")"
   ]
  },
  {
   "cell_type": "code",
   "execution_count": null,
   "metadata": {},
   "outputs": [],
   "source": [
    "example.fetch().to_pandas()"
   ]
  },
  {
   "cell_type": "code",
   "execution_count": 1,
   "metadata": {},
   "outputs": [],
   "source": [
    "import dot_connect\n",
    "import pandas as pd\n",
    "\n",
    "con = dot_connect.snowflake.connect()"
   ]
  },
  {
   "cell_type": "code",
   "execution_count": 2,
   "metadata": {},
   "outputs": [],
   "source": [
    "df = pd.read_csv(\n",
    "    \"s3://sfquickstarts/Summit 2022 Keynote Demo/campaign_spend/campaign_spend.csv\"\n",
    ")\n",
    "df.to_csv(\"campaign_spend.csv\", index=False)"
   ]
  },
  {
   "cell_type": "code",
   "execution_count": 17,
   "metadata": {},
   "outputs": [
    {
     "data": {
      "text/plain": [
       "[('Stage area DOT_CONNECT successfully created.',)]"
      ]
     },
     "execution_count": 17,
     "metadata": {},
     "output_type": "execute_result"
    }
   ],
   "source": [
    "con.cursor().execute(\n",
    "    \"CREATE OR REPLACE FILE FORMAT DOT_CONNECT TYPE = CSV SKIP_HEADER = 1;\"\n",
    ").fetchall()\n",
    "con.cursor().execute(\n",
    "    \"CREATE OR REPLACE STAGE DOT_CONNECT FILE_FORMAT = DOT_CONNECT;\"\n",
    ").fetchall()"
   ]
  },
  {
   "cell_type": "code",
   "execution_count": 18,
   "metadata": {},
   "outputs": [
    {
     "data": {
      "text/plain": [
       "[('campaign_spend.csv',\n",
       "  'campaign_spend.csv',\n",
       "  13684941,\n",
       "  13684944,\n",
       "  'NONE',\n",
       "  'NONE',\n",
       "  'UPLOADED',\n",
       "  '')]"
      ]
     },
     "execution_count": 18,
     "metadata": {},
     "output_type": "execute_result"
    }
   ],
   "source": [
    "con.cursor().execute(\n",
    "    \"PUT file://campaign_spend.csv @DOT_CONNECT AUTO_COMPRESS=FALSE;\"\n",
    ").fetchall()"
   ]
  },
  {
   "cell_type": "code",
   "execution_count": 26,
   "metadata": {},
   "outputs": [
    {
     "name": "stdout",
     "output_type": "stream",
     "text": [
      "Collecting tabulate\n",
      "  Using cached tabulate-0.9.0-py3-none-any.whl (35 kB)\n",
      "Installing collected packages: tabulate\n",
      "Successfully installed tabulate-0.9.0\n",
      "Note: you may need to restart the kernel to use updated packages.\n"
     ]
    }
   ],
   "source": [
    "pip install tabulate"
   ]
  },
  {
   "cell_type": "code",
   "execution_count": 29,
   "metadata": {},
   "outputs": [
    {
     "data": {
      "text/html": [
       "<div>\n",
       "<style scoped>\n",
       "    .dataframe tbody tr th:only-of-type {\n",
       "        vertical-align: middle;\n",
       "    }\n",
       "\n",
       "    .dataframe tbody tr th {\n",
       "        vertical-align: top;\n",
       "    }\n",
       "\n",
       "    .dataframe thead th {\n",
       "        text-align: right;\n",
       "    }\n",
       "</style>\n",
       "<table border=\"1\" class=\"dataframe\">\n",
       "  <thead>\n",
       "    <tr style=\"text-align: right;\">\n",
       "      <th></th>\n",
       "      <th>CAMPAIGN</th>\n",
       "      <th>CHANNEL</th>\n",
       "      <th>DATE</th>\n",
       "      <th>TOTAL_CLICKS</th>\n",
       "      <th>TOTAL_COST</th>\n",
       "      <th>ADS_SERVED</th>\n",
       "    </tr>\n",
       "  </thead>\n",
       "  <tbody>\n",
       "    <tr>\n",
       "      <th>0</th>\n",
       "      <td>winter_sports</td>\n",
       "      <td>video</td>\n",
       "      <td>2012-06-03</td>\n",
       "      <td>213</td>\n",
       "      <td>1762</td>\n",
       "      <td>426</td>\n",
       "    </tr>\n",
       "    <tr>\n",
       "      <th>1</th>\n",
       "      <td>sports_across_cultures</td>\n",
       "      <td>video</td>\n",
       "      <td>2012-06-02</td>\n",
       "      <td>87</td>\n",
       "      <td>678</td>\n",
       "      <td>157</td>\n",
       "    </tr>\n",
       "    <tr>\n",
       "      <th>2</th>\n",
       "      <td>building_community</td>\n",
       "      <td>search_engine</td>\n",
       "      <td>2012-06-03</td>\n",
       "      <td>66</td>\n",
       "      <td>471</td>\n",
       "      <td>134</td>\n",
       "    </tr>\n",
       "    <tr>\n",
       "      <th>3</th>\n",
       "      <td>world_series</td>\n",
       "      <td>social_media</td>\n",
       "      <td>2017-12-28</td>\n",
       "      <td>72</td>\n",
       "      <td>591</td>\n",
       "      <td>149</td>\n",
       "    </tr>\n",
       "    <tr>\n",
       "      <th>4</th>\n",
       "      <td>winter_sports</td>\n",
       "      <td>email</td>\n",
       "      <td>2018-02-09</td>\n",
       "      <td>252</td>\n",
       "      <td>1841</td>\n",
       "      <td>473</td>\n",
       "    </tr>\n",
       "  </tbody>\n",
       "</table>\n",
       "</div>"
      ],
      "text/plain": [
       "                 CAMPAIGN        CHANNEL        DATE TOTAL_CLICKS TOTAL_COST  \\\n",
       "0           winter_sports          video  2012-06-03          213       1762   \n",
       "1  sports_across_cultures          video  2012-06-02           87        678   \n",
       "2      building_community  search_engine  2012-06-03           66        471   \n",
       "3            world_series   social_media  2017-12-28           72        591   \n",
       "4           winter_sports          email  2018-02-09          252       1841   \n",
       "\n",
       "  ADS_SERVED  \n",
       "0        426  \n",
       "1        157  \n",
       "2        134  \n",
       "3        149  \n",
       "4        473  "
      ]
     },
     "execution_count": 29,
     "metadata": {},
     "output_type": "execute_result"
    }
   ],
   "source": [
    "con.cursor().execute(\n",
    "    \"\"\"SELECT $1::VARCHAR(60) AS CAMPAIGN, \n",
    "              $2::VARCHAR(60) AS CHANNEL, \n",
    "              $3::DATE AS DATE, \n",
    "              $4::NUMBER(38, 0) AS TOTAL_CLICKS, \n",
    "              $5::NUMBER(38, 0) AS TOTAL_COST, \n",
    "              $6::NUMBER(38, 0) AS ADS_SERVED\n",
    "       FROM @DOT_CONNECT;\n",
    "\"\"\"\n",
    ").fetch_pandas_all().head()"
   ]
  },
  {
   "cell_type": "code",
   "execution_count": null,
   "metadata": {},
   "outputs": [],
   "source": []
  }
 ],
 "metadata": {
  "kernelspec": {
   "display_name": "venv",
   "language": "python",
   "name": "python3"
  },
  "language_info": {
   "codemirror_mode": {
    "name": "ipython",
    "version": 3
   },
   "file_extension": ".py",
   "mimetype": "text/x-python",
   "name": "python",
   "nbconvert_exporter": "python",
   "pygments_lexer": "ipython3",
   "version": "3.10.12"
  },
  "orig_nbformat": 4
 },
 "nbformat": 4,
 "nbformat_minor": 2
}
