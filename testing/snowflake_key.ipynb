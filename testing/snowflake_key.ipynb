{
 "cells": [
  {
   "cell_type": "markdown",
   "metadata": {},
   "source": [
    "Using dot_connect's private key utilities to support key pair authentication and rotation.\n"
   ]
  },
  {
   "cell_type": "code",
   "execution_count": null,
   "metadata": {},
   "outputs": [],
   "source": [
    "import dot_connect\n",
    "import dot_connect.utils"
   ]
  },
  {
   "cell_type": "markdown",
   "metadata": {},
   "source": [
    "Generate a new private key pair and write them to local files (for now).\n"
   ]
  },
  {
   "cell_type": "code",
   "execution_count": null,
   "metadata": {},
   "outputs": [],
   "source": [
    "password = dot_connect.utils.generate_random_password()\n",
    "priv, pub = dot_connect.utils.generate_key_pair(password)"
   ]
  },
  {
   "cell_type": "code",
   "execution_count": null,
   "metadata": {},
   "outputs": [],
   "source": [
    "client = dot_connect.aws.connect(\"secretsmanager\")"
   ]
  },
  {
   "cell_type": "code",
   "execution_count": null,
   "metadata": {},
   "outputs": [],
   "source": [
    "dot_connect.utils.create_aws_secret(client, \"sfpscogs-twhite-priv\", priv)\n",
    "dot_connect.utils.create_aws_secret(client, \"sfpscogs-twhite-password\", password)"
   ]
  },
  {
   "cell_type": "code",
   "execution_count": null,
   "metadata": {},
   "outputs": [],
   "source": [
    "con = dot_connect.snowflake.connect()\n",
    "cursor = con.cursor()\n",
    "\n",
    "cursor.execute(\"USE ROLE USERADMIN;\").fetchall()\n",
    "\n",
    "cursor.execute(\n",
    "    f\"\"\"\n",
    "CREATE OR REPLACE USER KEY_USER WITH RSA_PUBLIC_KEY = '{dot_connect.utils.strip_public_key_headers(pub)}';\n",
    "\"\"\"\n",
    ").fetchall()\n",
    "\n",
    "con.close()"
   ]
  },
  {
   "cell_type": "markdown",
   "metadata": {},
   "source": [
    "Connect to Snowflake using our new user and the key pair.\n"
   ]
  },
  {
   "cell_type": "code",
   "execution_count": null,
   "metadata": {},
   "outputs": [],
   "source": [
    "import snowflake.connector\n",
    "import os\n",
    "\n",
    "pkb = dot_connect.utils.serialize_key(\n",
    "    client.get_secret_value(SecretId=\"sfpscogs-twhite-priv\").get(\"SecretBinary\"),\n",
    "    client.get_secret_value(SecretId=\"sfpscogs-twhite-password\").get(\"SecretBinary\"),\n",
    ")\n",
    "\n",
    "con = snowflake.connector.connect(\n",
    "    **dict(\n",
    "        account=os.environ.get(\"SNOWFLAKE_ACCOUNT\"), user=\"KEY_USER\", private_key=pkb\n",
    "    )\n",
    ")"
   ]
  },
  {
   "cell_type": "code",
   "execution_count": null,
   "metadata": {},
   "outputs": [],
   "source": [
    "print(con.cursor().execute(\"SELECT 'I AM ' || CURRENT_USER();\").fetchall())\n",
    "con.close()"
   ]
  }
 ],
 "metadata": {
  "kernelspec": {
   "display_name": "venv",
   "language": "python",
   "name": "python3"
  },
  "language_info": {
   "codemirror_mode": {
    "name": "ipython",
    "version": 3
   },
   "file_extension": ".py",
   "mimetype": "text/x-python",
   "name": "python",
   "nbconvert_exporter": "python",
   "pygments_lexer": "ipython3",
   "version": "3.10.13"
  },
  "orig_nbformat": 4
 },
 "nbformat": 4,
 "nbformat_minor": 2
}
